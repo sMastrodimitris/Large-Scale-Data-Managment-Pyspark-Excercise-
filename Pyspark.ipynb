{
 "cells": [
  {
   "cell_type": "markdown",
   "metadata": {
    "id": "msmGhbOVPZbM"
   },
   "source": [
    "## Install Pyspark"
   ]
  },
  {
   "cell_type": "code",
   "execution_count": 1,
   "metadata": {
    "colab": {
     "base_uri": "https://localhost:8080/"
    },
    "id": "Gs9FAON_HLHp",
    "outputId": "c117b61f-6a8f-4cfa-c7e1-1b202c0fe2f0"
   },
   "outputs": [
    {
     "name": "stdout",
     "output_type": "stream",
     "text": [
      "Looking in indexes: https://pypi.org/simple, https://us-python.pkg.dev/colab-wheels/public/simple/\n",
      "Requirement already satisfied: pyspark in /usr/local/lib/python3.9/dist-packages (3.3.2)\n",
      "Requirement already satisfied: py4j in /usr/local/lib/python3.9/dist-packages (0.10.9.5)\n"
     ]
    }
   ],
   "source": [
    "!pip install pyspark py4j"
   ]
  },
  {
   "cell_type": "markdown",
   "metadata": {
    "id": "XeY8s3A7PgXX"
   },
   "source": [
    "## Importing Libraries"
   ]
  },
  {
   "cell_type": "code",
   "execution_count": 2,
   "metadata": {
    "id": "bWP0u55hHjqM"
   },
   "outputs": [],
   "source": [
    "import pyspark\n",
    "from pyspark.sql import *\n",
    "from pyspark.sql.types import *\n",
    "from pyspark import SparkContext, SparkConf\n",
    "from pyspark.sql import *\n",
    "from pyspark.sql.functions import udf\n",
    "from pyspark.sql.types import *\n",
    "\n",
    " \n",
    "import pandas as pd\n",
    "#from pyspark.sql import Row"
   ]
  },
  {
   "cell_type": "markdown",
   "metadata": {
    "id": "AzOgGatdPrzn"
   },
   "source": [
    "##Build Session"
   ]
  },
  {
   "cell_type": "code",
   "execution_count": 3,
   "metadata": {
    "id": "lC_brJHiGfQO"
   },
   "outputs": [],
   "source": [
    "spark = SparkSession.builder \\\n",
    "    .appName(\"zillow\") \\\n",
    "    .master(\"local[*]\") \\\n",
    "    .config(\"spark.sql.shuffle.partitions\", 8) \\\n",
    "    .config(\"spark.driver.memory\", \"4g\") \\\n",
    "    .config(\"spark.executor.memory\", \"2g\") \\\n",
    "    .getOrCreate()"
   ]
  },
  {
   "cell_type": "code",
   "execution_count": 4,
   "metadata": {
    "colab": {
     "base_uri": "https://localhost:8080/",
     "height": 219
    },
    "id": "WAv66QBPHvit",
    "outputId": "f70f4d09-24f0-4f9d-9ebb-0906d7ed8778"
   },
   "outputs": [
    {
     "data": {
      "text/html": [
       "\n",
       "            <div>\n",
       "                <p><b>SparkSession - in-memory</b></p>\n",
       "                \n",
       "        <div>\n",
       "            <p><b>SparkContext</b></p>\n",
       "\n",
       "            <p><a href=\"http://301957c80bb0:4040\">Spark UI</a></p>\n",
       "\n",
       "            <dl>\n",
       "              <dt>Version</dt>\n",
       "                <dd><code>v3.3.2</code></dd>\n",
       "              <dt>Master</dt>\n",
       "                <dd><code>local[*]</code></dd>\n",
       "              <dt>AppName</dt>\n",
       "                <dd><code>zillow</code></dd>\n",
       "            </dl>\n",
       "        </div>\n",
       "        \n",
       "            </div>\n",
       "        "
      ],
      "text/plain": [
       "<pyspark.sql.session.SparkSession at 0x7fe065106370>"
      ]
     },
     "execution_count": 4,
     "metadata": {},
     "output_type": "execute_result"
    }
   ],
   "source": [
    "spark"
   ]
  },
  {
   "cell_type": "markdown",
   "metadata": {
    "id": "zGfxeRUL0pMg"
   },
   "source": [
    "## Import Data"
   ]
  },
  {
   "cell_type": "code",
   "execution_count": 5,
   "metadata": {
    "id": "IYLvQ40lItlW"
   },
   "outputs": [],
   "source": [
    "df = spark.read.csv(\"/content/zillow.csv\", header=True)"
   ]
  },
  {
   "cell_type": "code",
   "execution_count": 6,
   "metadata": {
    "colab": {
     "base_uri": "https://localhost:8080/"
    },
    "id": "ZKfja9sHQoOE",
    "outputId": "0051111a-fb60-47c6-a9d2-b76016a82db7"
   },
   "outputs": [
    {
     "name": "stdout",
     "output_type": "stream",
     "text": [
      "+--------------+-------+------------+-----+-----------+----------+--------------------+--------------------+--------------------+\n",
      "|         title|address|        city|state|postal_code|     price|  facts and features|real estate provider|                 url|\n",
      "+--------------+-------+------------+-----+-----------+----------+--------------------+--------------------+--------------------+\n",
      "|Condo for sale|   null|  Somerville|   MA|      02145|  $342,000|2 bds, 1.0 ba ,70...|William Raveis R....|https://www.zillo...|\n",
      "|Condo for sale|   null|      Boston|   MA|      02116|$1,700,000|2 bds, 2.0 ba ,12...|Century 21 North ...|https://www.zillo...|\n",
      "|Condo for sale|   null|      Boston|   MA|      02118|  $336,500|1 bds, 1.0 ba ,10...|Maloney Propertie...|https://www.zillo...|\n",
      "|House for sale|   null|      Boston|   MA|      02118|$9,950,000|4 bds, 7.0 ba ,68...|Campion & Company...|https://www.zillo...|\n",
      "|Condo for sale|   null|      Boston|   MA|      02128|  $479,000|2 bds, 3.0 ba ,10...|Berkshire Hathawa...|https://www.zillo...|\n",
      "|House for sale|   null| East Boston|   MA|      02128|  $899,000|3 bds, 3.0 ba ,23...|Berkshire Hathawa...|https://www.zillo...|\n",
      "|Condo for sale|   null|  Somerville|   MA|      02145|  $397,300|2 bds, 1.0 ba ,78...|William Raveis R....|https://www.zillo...|\n",
      "|Condo for sale|   null|South Boston|   MA|      02127|  $619,900|2 bds, 1.0 ba ,85...|Bento Real Estate...|https://www.zillo...|\n",
      "|Condo for sale|   null|      Boston|   MA|      02116|  $850,000|1 bds, 1.0 ba ,67...|Engel & Volkers B...|https://www.zillo...|\n",
      "|Condo for sale|   null|      Boston|   MA|      02114|  $649,900|2 bds, 1.0 ba ,51...|Leading Edge Real...|https://www.zillo...|\n",
      "|Condo for sale|   null|      Boston|   MA|      02114|  $625,000|2 bds, 2.0 ba ,10...|Keller Williams R...|https://www.zillo...|\n",
      "|Condo for sale|   null|  Somerville|   MA|      02143|   $80,000|0 bds, None ba ,1...|The Greene Realty...|https://www.zillo...|\n",
      "|Condo for sale|   null|      Boston|   MA|      02116|$1,425,000|3 bds, 2.0 ba ,10...|        Redfin Corp.|https://www.zillo...|\n",
      "|Condo for sale|   null|      Boston|   MA|      02128|  $199,000|2 bds, 1.0 ba ,62...| Perlera Real Estate|https://www.zillo...|\n",
      "|House for sale|   null|      Boston|   MA|      02113|$1,200,000|2 bds, 1.0 ba ,11...|       CL Properties|https://www.zillo...|\n",
      "|Condo for sale|   null|South Boston|   MA|      02127|  $499,950|1 bds, 1.0 ba ,50...|      One Way Realty|https://www.zillo...|\n",
      "|Condo for sale|   null| Charlestown|   MA|      02129|  $739,000|2 bds, 2.0 ba ,93...|             Compass|https://www.zillo...|\n",
      "|House for sale|   null|      Boston|   MA|      02129|$1,119,000|3 bds, 4.0 ba ,16...|All Star Realty, ...|https://www.zillo...|\n",
      "|House for sale|   null|South Boston|   MA|      02127|$1,699,000|4 bds, 3.0 ba ,20...|             Compass|https://www.zillo...|\n",
      "|House for sale|   null|      Boston|   MA|      02128|  $589,000|2 bds, 2.0 ba ,12...|Gibson Sotheby's ...|https://www.zillo...|\n",
      "+--------------+-------+------------+-----+-----------+----------+--------------------+--------------------+--------------------+\n",
      "only showing top 20 rows\n",
      "\n"
     ]
    }
   ],
   "source": [
    "df.show()"
   ]
  },
  {
   "cell_type": "markdown",
   "metadata": {
    "id": "MEloStJfouAt"
   },
   "source": [
    "We notice that addreses are null and after futher ivestigating the csv it is confirmed that the address column is an empty column. Also all properties are from the MA area meaning the state column is redudant. "
   ]
  },
  {
   "cell_type": "code",
   "execution_count": 7,
   "metadata": {
    "colab": {
     "base_uri": "https://localhost:8080/"
    },
    "id": "db8vSg_DQqc3",
    "outputId": "9a833178-d070-4dba-95eb-690b9dc3785f"
   },
   "outputs": [
    {
     "name": "stdout",
     "output_type": "stream",
     "text": [
      "+--------------+------------+-----------+----------+--------------------+--------------------+--------------------+\n",
      "|         title|        city|postal_code|     price|  facts and features|real estate provider|                 url|\n",
      "+--------------+------------+-----------+----------+--------------------+--------------------+--------------------+\n",
      "|Condo for sale|  Somerville|      02145|  $342,000|2 bds, 1.0 ba ,70...|William Raveis R....|https://www.zillo...|\n",
      "|Condo for sale|      Boston|      02116|$1,700,000|2 bds, 2.0 ba ,12...|Century 21 North ...|https://www.zillo...|\n",
      "|Condo for sale|      Boston|      02118|  $336,500|1 bds, 1.0 ba ,10...|Maloney Propertie...|https://www.zillo...|\n",
      "|House for sale|      Boston|      02118|$9,950,000|4 bds, 7.0 ba ,68...|Campion & Company...|https://www.zillo...|\n",
      "|Condo for sale|      Boston|      02128|  $479,000|2 bds, 3.0 ba ,10...|Berkshire Hathawa...|https://www.zillo...|\n",
      "|House for sale| East Boston|      02128|  $899,000|3 bds, 3.0 ba ,23...|Berkshire Hathawa...|https://www.zillo...|\n",
      "|Condo for sale|  Somerville|      02145|  $397,300|2 bds, 1.0 ba ,78...|William Raveis R....|https://www.zillo...|\n",
      "|Condo for sale|South Boston|      02127|  $619,900|2 bds, 1.0 ba ,85...|Bento Real Estate...|https://www.zillo...|\n",
      "|Condo for sale|      Boston|      02116|  $850,000|1 bds, 1.0 ba ,67...|Engel & Volkers B...|https://www.zillo...|\n",
      "|Condo for sale|      Boston|      02114|  $649,900|2 bds, 1.0 ba ,51...|Leading Edge Real...|https://www.zillo...|\n",
      "|Condo for sale|      Boston|      02114|  $625,000|2 bds, 2.0 ba ,10...|Keller Williams R...|https://www.zillo...|\n",
      "|Condo for sale|  Somerville|      02143|   $80,000|0 bds, None ba ,1...|The Greene Realty...|https://www.zillo...|\n",
      "|Condo for sale|      Boston|      02116|$1,425,000|3 bds, 2.0 ba ,10...|        Redfin Corp.|https://www.zillo...|\n",
      "|Condo for sale|      Boston|      02128|  $199,000|2 bds, 1.0 ba ,62...| Perlera Real Estate|https://www.zillo...|\n",
      "|House for sale|      Boston|      02113|$1,200,000|2 bds, 1.0 ba ,11...|       CL Properties|https://www.zillo...|\n",
      "|Condo for sale|South Boston|      02127|  $499,950|1 bds, 1.0 ba ,50...|      One Way Realty|https://www.zillo...|\n",
      "|Condo for sale| Charlestown|      02129|  $739,000|2 bds, 2.0 ba ,93...|             Compass|https://www.zillo...|\n",
      "|House for sale|      Boston|      02129|$1,119,000|3 bds, 4.0 ba ,16...|All Star Realty, ...|https://www.zillo...|\n",
      "|House for sale|South Boston|      02127|$1,699,000|4 bds, 3.0 ba ,20...|             Compass|https://www.zillo...|\n",
      "|House for sale|      Boston|      02128|  $589,000|2 bds, 2.0 ba ,12...|Gibson Sotheby's ...|https://www.zillo...|\n",
      "+--------------+------------+-----------+----------+--------------------+--------------------+--------------------+\n",
      "only showing top 20 rows\n",
      "\n"
     ]
    }
   ],
   "source": [
    "df = df.drop(\"address\")\n",
    "df = df.drop(\"state\")\n",
    "df.show()"
   ]
  },
  {
   "cell_type": "markdown",
   "metadata": {
    "id": "M3gxnPKdqp5g"
   },
   "source": [
    "## Question 1 (No of Beadrooms)"
   ]
  },
  {
   "cell_type": "code",
   "execution_count": 8,
   "metadata": {
    "id": "1_VUZvn4VI0X"
   },
   "outputs": [],
   "source": [
    "from pyspark.sql.functions import pandas_udf\n",
    "import pyspark.sql.functions as F\n",
    "\n",
    "# Define a python function that takes a string as an input\n",
    "def split_and_convert(string):\n",
    "  first_element = string.split()[0]\n",
    "  # Try to convert the first element to an integer\n",
    "  try:\n",
    "    first_int = int(first_element)\n",
    "  except ValueError:\n",
    "    first_int = 0\n",
    "  return first_int\n",
    "# Register the python function as a pyspark UDF with an integer return type\n",
    "split_and_convert_udf = F.udf(split_and_convert, IntegerType())"
   ]
  },
  {
   "cell_type": "code",
   "execution_count": 9,
   "metadata": {
    "colab": {
     "base_uri": "https://localhost:8080/"
    },
    "id": "tm43bDmUXohx",
    "outputId": "2a41dc81-f841-4ff2-a239-6edf5f8e2370"
   },
   "outputs": [
    {
     "name": "stdout",
     "output_type": "stream",
     "text": [
      "+--------------+------------+-----------+----------+--------------------+--------------------+--------------------+-----+\n",
      "|         title|        city|postal_code|     price|  facts and features|real estate provider|                 url|beadR|\n",
      "+--------------+------------+-----------+----------+--------------------+--------------------+--------------------+-----+\n",
      "|Condo for sale|  Somerville|      02145|  $342,000|2 bds, 1.0 ba ,70...|William Raveis R....|https://www.zillo...|    2|\n",
      "|Condo for sale|      Boston|      02116|$1,700,000|2 bds, 2.0 ba ,12...|Century 21 North ...|https://www.zillo...|    2|\n",
      "|Condo for sale|      Boston|      02118|  $336,500|1 bds, 1.0 ba ,10...|Maloney Propertie...|https://www.zillo...|    1|\n",
      "|House for sale|      Boston|      02118|$9,950,000|4 bds, 7.0 ba ,68...|Campion & Company...|https://www.zillo...|    4|\n",
      "|Condo for sale|      Boston|      02128|  $479,000|2 bds, 3.0 ba ,10...|Berkshire Hathawa...|https://www.zillo...|    2|\n",
      "|House for sale| East Boston|      02128|  $899,000|3 bds, 3.0 ba ,23...|Berkshire Hathawa...|https://www.zillo...|    3|\n",
      "|Condo for sale|  Somerville|      02145|  $397,300|2 bds, 1.0 ba ,78...|William Raveis R....|https://www.zillo...|    2|\n",
      "|Condo for sale|South Boston|      02127|  $619,900|2 bds, 1.0 ba ,85...|Bento Real Estate...|https://www.zillo...|    2|\n",
      "|Condo for sale|      Boston|      02116|  $850,000|1 bds, 1.0 ba ,67...|Engel & Volkers B...|https://www.zillo...|    1|\n",
      "|Condo for sale|      Boston|      02114|  $649,900|2 bds, 1.0 ba ,51...|Leading Edge Real...|https://www.zillo...|    2|\n",
      "+--------------+------------+-----------+----------+--------------------+--------------------+--------------------+-----+\n",
      "only showing top 10 rows\n",
      "\n"
     ]
    }
   ],
   "source": [
    "# Apply the UDF to a pyspark dataframe column and return a new column\n",
    "beadR = split_and_convert_udf(df[\"facts and features\"])\n",
    "\n",
    "# Add the new column to the dataframe\n",
    "df = df.withColumn(\"beadR\", split_and_convert_udf(df[\"facts and features\"]))\n",
    "# Show the first 10 rows of the dataframe with the new column\n",
    "df.show(10)"
   ]
  },
  {
   "cell_type": "markdown",
   "metadata": {
    "id": "GVSLsPuVq2Qk"
   },
   "source": [
    "## Question 2 (No of bathrooms)"
   ]
  },
  {
   "cell_type": "code",
   "execution_count": 10,
   "metadata": {
    "id": "WXFF82UIaNHS"
   },
   "outputs": [],
   "source": [
    "# Import the pyspark.sql.functions module\n",
    "import pyspark.sql.functions as F\n",
    "# Define a python function that takes a string as an input\n",
    "def split_and_convert(string):\n",
    "  # Split the string by commas and take the second, third and fourth digits after the first comma\n",
    "\n",
    "  digit = (string.split(\",\")[1]).split()[0]\n",
    "  if (digit==\"None\"):\n",
    "    digit = 0.0\n",
    "  else:\n",
    "   digit = float(digit)\n",
    "\n",
    "  # Try to convert the digits to a float number\n",
    "  try:\n",
    "    float_number = digit\n",
    "\n",
    "  # If it fails, use a default value of zero\n",
    "  except ValueError:\n",
    "    float_number = 0.0\n",
    "  # Return the float number\n",
    "  return float_number\n",
    "# Register the python function as a pyspark UDF with a float return type\n",
    "split_and_convert_udf = F.udf(split_and_convert, FloatType())"
   ]
  },
  {
   "cell_type": "code",
   "execution_count": 11,
   "metadata": {
    "colab": {
     "base_uri": "https://localhost:8080/"
    },
    "id": "0v0oXPBwtbCf",
    "outputId": "1973006e-a8e1-462d-9e51-5768de20b0ad"
   },
   "outputs": [
    {
     "name": "stdout",
     "output_type": "stream",
     "text": [
      "+--------------+------------+-----------+----------+--------------------+--------------------+--------------------+-----+-----+\n",
      "|         title|        city|postal_code|     price|  facts and features|real estate provider|                 url|beadR|bathR|\n",
      "+--------------+------------+-----------+----------+--------------------+--------------------+--------------------+-----+-----+\n",
      "|Condo for sale|  Somerville|      02145|  $342,000|2 bds, 1.0 ba ,70...|William Raveis R....|https://www.zillo...|    2|  1.0|\n",
      "|Condo for sale|      Boston|      02116|$1,700,000|2 bds, 2.0 ba ,12...|Century 21 North ...|https://www.zillo...|    2|  2.0|\n",
      "|Condo for sale|      Boston|      02118|  $336,500|1 bds, 1.0 ba ,10...|Maloney Propertie...|https://www.zillo...|    1|  1.0|\n",
      "|House for sale|      Boston|      02118|$9,950,000|4 bds, 7.0 ba ,68...|Campion & Company...|https://www.zillo...|    4|  7.0|\n",
      "|Condo for sale|      Boston|      02128|  $479,000|2 bds, 3.0 ba ,10...|Berkshire Hathawa...|https://www.zillo...|    2|  3.0|\n",
      "|House for sale| East Boston|      02128|  $899,000|3 bds, 3.0 ba ,23...|Berkshire Hathawa...|https://www.zillo...|    3|  3.0|\n",
      "|Condo for sale|  Somerville|      02145|  $397,300|2 bds, 1.0 ba ,78...|William Raveis R....|https://www.zillo...|    2|  1.0|\n",
      "|Condo for sale|South Boston|      02127|  $619,900|2 bds, 1.0 ba ,85...|Bento Real Estate...|https://www.zillo...|    2|  1.0|\n",
      "|Condo for sale|      Boston|      02116|  $850,000|1 bds, 1.0 ba ,67...|Engel & Volkers B...|https://www.zillo...|    1|  1.0|\n",
      "|Condo for sale|      Boston|      02114|  $649,900|2 bds, 1.0 ba ,51...|Leading Edge Real...|https://www.zillo...|    2|  1.0|\n",
      "+--------------+------------+-----------+----------+--------------------+--------------------+--------------------+-----+-----+\n",
      "only showing top 10 rows\n",
      "\n"
     ]
    }
   ],
   "source": [
    "# Apply the UDF to a pyspark dataframe column and return a new column\n",
    "bathR = split_and_convert_udf(df[\"facts and features\"])\n",
    "\n",
    "df = df.withColumn(\"bathR\", split_and_convert_udf(df[\"facts and features\"]))\n",
    "df.show(10)"
   ]
  },
  {
   "cell_type": "markdown",
   "metadata": {
    "id": "FeYP2GOi7fYD"
   },
   "source": [
    "## Question 3 (Sqft)"
   ]
  },
  {
   "cell_type": "code",
   "execution_count": 12,
   "metadata": {
    "id": "UDKKhNWzXaKN"
   },
   "outputs": [],
   "source": [
    "def split_and_convert(string):\n",
    "  digit = (string.split(\",\")[2]).split()[0]\n",
    "\n",
    "  if (digit != \"None\"):\n",
    "    sqft = int(digit)\n",
    "  else:\n",
    "    sqft = 0\n",
    "\n",
    "  return sqft\n",
    "# Register the python function as a pyspark UDF with a float return type\n",
    "split_and_convert_udf = F.udf(split_and_convert, IntegerType())"
   ]
  },
  {
   "cell_type": "code",
   "execution_count": 13,
   "metadata": {
    "colab": {
     "base_uri": "https://localhost:8080/"
    },
    "id": "jtCZIopQ3Ec3",
    "outputId": "7e307273-0599-4f38-a388-8b819a71c1de"
   },
   "outputs": [
    {
     "name": "stdout",
     "output_type": "stream",
     "text": [
      "+--------------+------------+-----------+----------+--------------------+--------------------+--------------------+-----+-----+----+\n",
      "|         title|        city|postal_code|     price|  facts and features|real estate provider|                 url|beadR|bathR|sqft|\n",
      "+--------------+------------+-----------+----------+--------------------+--------------------+--------------------+-----+-----+----+\n",
      "|Condo for sale|  Somerville|      02145|  $342,000|2 bds, 1.0 ba ,70...|William Raveis R....|https://www.zillo...|    2|  1.0| 705|\n",
      "|Condo for sale|      Boston|      02116|$1,700,000|2 bds, 2.0 ba ,12...|Century 21 North ...|https://www.zillo...|    2|  2.0|1228|\n",
      "|Condo for sale|      Boston|      02118|  $336,500|1 bds, 1.0 ba ,10...|Maloney Propertie...|https://www.zillo...|    1|  1.0|1000|\n",
      "|House for sale|      Boston|      02118|$9,950,000|4 bds, 7.0 ba ,68...|Campion & Company...|https://www.zillo...|    4|  7.0|6836|\n",
      "|Condo for sale|      Boston|      02128|  $479,000|2 bds, 3.0 ba ,10...|Berkshire Hathawa...|https://www.zillo...|    2|  3.0|1000|\n",
      "|House for sale| East Boston|      02128|  $899,000|3 bds, 3.0 ba ,23...|Berkshire Hathawa...|https://www.zillo...|    3|  3.0|2313|\n",
      "|Condo for sale|  Somerville|      02145|  $397,300|2 bds, 1.0 ba ,78...|William Raveis R....|https://www.zillo...|    2|  1.0| 780|\n",
      "|Condo for sale|South Boston|      02127|  $619,900|2 bds, 1.0 ba ,85...|Bento Real Estate...|https://www.zillo...|    2|  1.0| 856|\n",
      "|Condo for sale|      Boston|      02116|  $850,000|1 bds, 1.0 ba ,67...|Engel & Volkers B...|https://www.zillo...|    1|  1.0| 675|\n",
      "|Condo for sale|      Boston|      02114|  $649,900|2 bds, 1.0 ba ,51...|Leading Edge Real...|https://www.zillo...|    2|  1.0| 511|\n",
      "+--------------+------------+-----------+----------+--------------------+--------------------+--------------------+-----+-----+----+\n",
      "only showing top 10 rows\n",
      "\n"
     ]
    }
   ],
   "source": [
    "# Apply the UDF to a pyspark dataframe column and return a new column\n",
    "sqft = split_and_convert_udf(df[\"facts and features\"])\n",
    "\n",
    "df = df.withColumn(\"sqft\", split_and_convert_udf(df[\"facts and features\"]))\n",
    "df.show(10)"
   ]
  },
  {
   "cell_type": "markdown",
   "metadata": {
    "id": "SXfDQw3k3mzM"
   },
   "source": [
    "At this point i would say that the column facts and features have become redundant"
   ]
  },
  {
   "cell_type": "code",
   "execution_count": 14,
   "metadata": {
    "colab": {
     "base_uri": "https://localhost:8080/"
    },
    "id": "MOOWBg3p3tMp",
    "outputId": "08560662-c7e5-466d-94c8-ab5a9584f566"
   },
   "outputs": [
    {
     "name": "stdout",
     "output_type": "stream",
     "text": [
      "+--------------+------------+-----------+----------+--------------------+--------------------+-----+-----+----+\n",
      "|         title|        city|postal_code|     price|real estate provider|                 url|beadR|bathR|sqft|\n",
      "+--------------+------------+-----------+----------+--------------------+--------------------+-----+-----+----+\n",
      "|Condo for sale|  Somerville|      02145|  $342,000|William Raveis R....|https://www.zillo...|    2|  1.0| 705|\n",
      "|Condo for sale|      Boston|      02116|$1,700,000|Century 21 North ...|https://www.zillo...|    2|  2.0|1228|\n",
      "|Condo for sale|      Boston|      02118|  $336,500|Maloney Propertie...|https://www.zillo...|    1|  1.0|1000|\n",
      "|House for sale|      Boston|      02118|$9,950,000|Campion & Company...|https://www.zillo...|    4|  7.0|6836|\n",
      "|Condo for sale|      Boston|      02128|  $479,000|Berkshire Hathawa...|https://www.zillo...|    2|  3.0|1000|\n",
      "|House for sale| East Boston|      02128|  $899,000|Berkshire Hathawa...|https://www.zillo...|    3|  3.0|2313|\n",
      "|Condo for sale|  Somerville|      02145|  $397,300|William Raveis R....|https://www.zillo...|    2|  1.0| 780|\n",
      "|Condo for sale|South Boston|      02127|  $619,900|Bento Real Estate...|https://www.zillo...|    2|  1.0| 856|\n",
      "|Condo for sale|      Boston|      02116|  $850,000|Engel & Volkers B...|https://www.zillo...|    1|  1.0| 675|\n",
      "|Condo for sale|      Boston|      02114|  $649,900|Leading Edge Real...|https://www.zillo...|    2|  1.0| 511|\n",
      "+--------------+------------+-----------+----------+--------------------+--------------------+-----+-----+----+\n",
      "only showing top 10 rows\n",
      "\n"
     ]
    }
   ],
   "source": [
    "df = df.drop(\"facts and features\")\n",
    "df.show(10)"
   ]
  },
  {
   "cell_type": "markdown",
   "metadata": {
    "id": "04xtSz7e3mSg"
   },
   "source": [
    "## Question 4 (Type of Listing)"
   ]
  },
  {
   "cell_type": "code",
   "execution_count": 15,
   "metadata": {
    "id": "ecPhgPKwBtd_"
   },
   "outputs": [],
   "source": [
    "def split_and_convert(string):\n",
    "  propertyType = string.split()[0]\n",
    "  if (propertyType == \"Condo\"):\n",
    "    propertyType = \"condo\"\n",
    "  elif (propertyType == \"House\"):\n",
    "    propertyType = \"house\"\n",
    "  elif (propertyType == \"Multi-family\"):\n",
    "    propertyType = \"multi-family home\"\n",
    "  elif (propertyType == \"New\"):\n",
    "    propertyType = \"new construction\"  \n",
    "  elif (propertyType == \"Lot\"):\n",
    "    propertyType = \"land\"\n",
    "  else:\n",
    "    propertyType = \"uknown\"\n",
    "\n",
    "  return propertyType\n",
    "\n",
    "# Register the python function as a pyspark UDF with a float return type\n",
    "split_and_convert_udf = F.udf(split_and_convert, StringType())"
   ]
  },
  {
   "cell_type": "code",
   "execution_count": 16,
   "metadata": {
    "colab": {
     "base_uri": "https://localhost:8080/"
    },
    "id": "04TRJjQnGKcW",
    "outputId": "f94618a5-4c67-43a1-c8ef-4a3b0a309a36"
   },
   "outputs": [
    {
     "name": "stdout",
     "output_type": "stream",
     "text": [
      "+--------------+------------+-----------+----------+--------------------+--------------------+-----+-----+----+--------+\n",
      "|         title|        city|postal_code|     price|real estate provider|                 url|beadR|bathR|sqft|propType|\n",
      "+--------------+------------+-----------+----------+--------------------+--------------------+-----+-----+----+--------+\n",
      "|Condo for sale|  Somerville|      02145|  $342,000|William Raveis R....|https://www.zillo...|    2|  1.0| 705|   condo|\n",
      "|Condo for sale|      Boston|      02116|$1,700,000|Century 21 North ...|https://www.zillo...|    2|  2.0|1228|   condo|\n",
      "|Condo for sale|      Boston|      02118|  $336,500|Maloney Propertie...|https://www.zillo...|    1|  1.0|1000|   condo|\n",
      "|House for sale|      Boston|      02118|$9,950,000|Campion & Company...|https://www.zillo...|    4|  7.0|6836|   house|\n",
      "|Condo for sale|      Boston|      02128|  $479,000|Berkshire Hathawa...|https://www.zillo...|    2|  3.0|1000|   condo|\n",
      "|House for sale| East Boston|      02128|  $899,000|Berkshire Hathawa...|https://www.zillo...|    3|  3.0|2313|   house|\n",
      "|Condo for sale|  Somerville|      02145|  $397,300|William Raveis R....|https://www.zillo...|    2|  1.0| 780|   condo|\n",
      "|Condo for sale|South Boston|      02127|  $619,900|Bento Real Estate...|https://www.zillo...|    2|  1.0| 856|   condo|\n",
      "|Condo for sale|      Boston|      02116|  $850,000|Engel & Volkers B...|https://www.zillo...|    1|  1.0| 675|   condo|\n",
      "|Condo for sale|      Boston|      02114|  $649,900|Leading Edge Real...|https://www.zillo...|    2|  1.0| 511|   condo|\n",
      "+--------------+------------+-----------+----------+--------------------+--------------------+-----+-----+----+--------+\n",
      "only showing top 10 rows\n",
      "\n"
     ]
    }
   ],
   "source": [
    "# Apply the UDF to a pyspark dataframe column and return a new column\n",
    "propType = split_and_convert_udf(df[\"title\"])\n",
    "\n",
    "df = df.withColumn(\"propType\", split_and_convert_udf(df[\"title\"]))\n",
    "df.show(10)"
   ]
  },
  {
   "cell_type": "markdown",
   "metadata": {
    "id": "bIQLL9-CQLxb"
   },
   "source": [
    "## Question 5 (Type of offer)"
   ]
  },
  {
   "cell_type": "code",
   "execution_count": 17,
   "metadata": {
    "id": "2q2oDbql7lca"
   },
   "outputs": [],
   "source": [
    "def split_and_convert(string):\n",
    "  exchange = (string.split()[-1]).lower()\n",
    "  return exchange\n",
    "\n",
    "split_and_convert_udf = F.udf(split_and_convert, StringType())"
   ]
  },
  {
   "cell_type": "code",
   "execution_count": 18,
   "metadata": {
    "colab": {
     "base_uri": "https://localhost:8080/"
    },
    "id": "qQPOJJ_X9lpc",
    "outputId": "016e6a64-2c6c-4d67-f301-7371cbf38d8d"
   },
   "outputs": [
    {
     "name": "stdout",
     "output_type": "stream",
     "text": [
      "+--------------+------------+-----------+----------+--------------------+--------------------+-----+-----+----+--------+-----+\n",
      "|         title|        city|postal_code|     price|real estate provider|                 url|beadR|bathR|sqft|propType|offer|\n",
      "+--------------+------------+-----------+----------+--------------------+--------------------+-----+-----+----+--------+-----+\n",
      "|Condo for sale|  Somerville|      02145|  $342,000|William Raveis R....|https://www.zillo...|    2|  1.0| 705|   condo| sale|\n",
      "|Condo for sale|      Boston|      02116|$1,700,000|Century 21 North ...|https://www.zillo...|    2|  2.0|1228|   condo| sale|\n",
      "|Condo for sale|      Boston|      02118|  $336,500|Maloney Propertie...|https://www.zillo...|    1|  1.0|1000|   condo| sale|\n",
      "|House for sale|      Boston|      02118|$9,950,000|Campion & Company...|https://www.zillo...|    4|  7.0|6836|   house| sale|\n",
      "|Condo for sale|      Boston|      02128|  $479,000|Berkshire Hathawa...|https://www.zillo...|    2|  3.0|1000|   condo| sale|\n",
      "|House for sale| East Boston|      02128|  $899,000|Berkshire Hathawa...|https://www.zillo...|    3|  3.0|2313|   house| sale|\n",
      "|Condo for sale|  Somerville|      02145|  $397,300|William Raveis R....|https://www.zillo...|    2|  1.0| 780|   condo| sale|\n",
      "|Condo for sale|South Boston|      02127|  $619,900|Bento Real Estate...|https://www.zillo...|    2|  1.0| 856|   condo| sale|\n",
      "|Condo for sale|      Boston|      02116|  $850,000|Engel & Volkers B...|https://www.zillo...|    1|  1.0| 675|   condo| sale|\n",
      "|Condo for sale|      Boston|      02114|  $649,900|Leading Edge Real...|https://www.zillo...|    2|  1.0| 511|   condo| sale|\n",
      "+--------------+------------+-----------+----------+--------------------+--------------------+-----+-----+----+--------+-----+\n",
      "only showing top 10 rows\n",
      "\n"
     ]
    }
   ],
   "source": [
    "# Apply the UDF to a pyspark dataframe column and return a new column\n",
    "offer = split_and_convert_udf(df[\"title\"])\n",
    "\n",
    "# Add the new column to the dataframe\n",
    "df = df.withColumn(\"offer\", split_and_convert_udf(df[\"title\"]))\n",
    "\n",
    "df.show(10)"
   ]
  },
  {
   "cell_type": "code",
   "execution_count": 19,
   "metadata": {
    "colab": {
     "base_uri": "https://localhost:8080/"
    },
    "id": "ywT5F-z-RBMy",
    "outputId": "1b84f6a7-3d04-4206-b3ce-787029037183"
   },
   "outputs": [
    {
     "name": "stdout",
     "output_type": "stream",
     "text": [
      "+--------------+------------+-----------+----------+--------------------+--------------------+-----+-----+----+--------+-----+\n",
      "|         title|        city|postal_code|     price|real estate provider|                 url|beadR|bathR|sqft|propType|offer|\n",
      "+--------------+------------+-----------+----------+--------------------+--------------------+-----+-----+----+--------+-----+\n",
      "|Condo for sale|  Somerville|      02145|  $342,000|William Raveis R....|https://www.zillo...|    2|  1.0| 705|   condo| sale|\n",
      "|Condo for sale|      Boston|      02116|$1,700,000|Century 21 North ...|https://www.zillo...|    2|  2.0|1228|   condo| sale|\n",
      "|Condo for sale|      Boston|      02118|  $336,500|Maloney Propertie...|https://www.zillo...|    1|  1.0|1000|   condo| sale|\n",
      "|House for sale|      Boston|      02118|$9,950,000|Campion & Company...|https://www.zillo...|    4|  7.0|6836|   house| sale|\n",
      "|Condo for sale|      Boston|      02128|  $479,000|Berkshire Hathawa...|https://www.zillo...|    2|  3.0|1000|   condo| sale|\n",
      "|House for sale| East Boston|      02128|  $899,000|Berkshire Hathawa...|https://www.zillo...|    3|  3.0|2313|   house| sale|\n",
      "|Condo for sale|  Somerville|      02145|  $397,300|William Raveis R....|https://www.zillo...|    2|  1.0| 780|   condo| sale|\n",
      "|Condo for sale|South Boston|      02127|  $619,900|Bento Real Estate...|https://www.zillo...|    2|  1.0| 856|   condo| sale|\n",
      "|Condo for sale|      Boston|      02116|  $850,000|Engel & Volkers B...|https://www.zillo...|    1|  1.0| 675|   condo| sale|\n",
      "|Condo for sale|      Boston|      02114|  $649,900|Leading Edge Real...|https://www.zillo...|    2|  1.0| 511|   condo| sale|\n",
      "+--------------+------------+-----------+----------+--------------------+--------------------+-----+-----+----+--------+-----+\n",
      "only showing top 10 rows\n",
      "\n"
     ]
    }
   ],
   "source": [
    "def check_offer(offer):\n",
    "  return offer == \"sale\"\n",
    "\n",
    "# Register the UDF as a Spark SQL function\n",
    "check_offer_udf = udf(check_offer, BooleanType())\n",
    "\n",
    "# Apply the UDF to the offer column and filter the rows where the UDF returns True\n",
    "test = df.filter(check_offer_udf(df.offer))\n",
    "\n",
    "test.show(10)"
   ]
  },
  {
   "cell_type": "code",
   "execution_count": 20,
   "metadata": {
    "colab": {
     "base_uri": "https://localhost:8080/"
    },
    "id": "O_IX0ob1RBzM",
    "outputId": "48103b96-b705-4c98-e4c8-003f3761d274"
   },
   "outputs": [
    {
     "name": "stdout",
     "output_type": "stream",
     "text": [
      "+-----+----+-----------+-----+--------------------+---+-----+-----+----+--------+-----+\n",
      "|title|city|postal_code|price|real estate provider|url|beadR|bathR|sqft|propType|offer|\n",
      "+-----+----+-----------+-----+--------------------+---+-----+-----+----+--------+-----+\n",
      "+-----+----+-----------+-----+--------------------+---+-----+-----+----+--------+-----+\n",
      "\n"
     ]
    }
   ],
   "source": [
    "def check_offer(offer):\n",
    "  return offer == \"rent\"\n",
    "\n",
    "# Register the UDF as a Spark SQL function\n",
    "check_offer_udf = udf(check_offer, BooleanType())\n",
    "\n",
    "# Apply the UDF to the offer column and filter the rows where the UDF returns True\n",
    "test = df.filter(check_offer_udf(df.offer))\n",
    "\n",
    "test.show()"
   ]
  },
  {
   "cell_type": "code",
   "execution_count": 21,
   "metadata": {
    "colab": {
     "base_uri": "https://localhost:8080/"
    },
    "id": "os-G8_lJTerm",
    "outputId": "258bbb94-c5c3-46e7-bb9d-d560933422bb"
   },
   "outputs": [
    {
     "name": "stdout",
     "output_type": "stream",
     "text": [
      "+-----+----+-----------+-----+--------------------+---+-----+-----+----+--------+-----+\n",
      "|title|city|postal_code|price|real estate provider|url|beadR|bathR|sqft|propType|offer|\n",
      "+-----+----+-----------+-----+--------------------+---+-----+-----+----+--------+-----+\n",
      "+-----+----+-----------+-----+--------------------+---+-----+-----+----+--------+-----+\n",
      "\n"
     ]
    }
   ],
   "source": [
    "def check_offer(offer):\n",
    "  return offer == \"sold\"\n",
    "\n",
    "# Register the UDF as a Spark SQL function\n",
    "check_offer_udf = udf(check_offer, BooleanType())\n",
    "\n",
    "# Apply the UDF to the offer column and filter the rows where the UDF returns True\n",
    "test = df.filter(check_offer_udf(df.offer))\n",
    "\n",
    "test.show()"
   ]
  },
  {
   "cell_type": "code",
   "execution_count": 22,
   "metadata": {
    "colab": {
     "base_uri": "https://localhost:8080/"
    },
    "id": "044xMFGhTBa8",
    "outputId": "4080be83-551c-46d1-95ee-7986607778c1"
   },
   "outputs": [
    {
     "name": "stdout",
     "output_type": "stream",
     "text": [
      "+-----------+----------+-----------+--------+--------------------+--------------------+-----+-----+----+--------+-----------+\n",
      "|      title|      city|postal_code|   price|real estate provider|                 url|beadR|bathR|sqft|propType|      offer|\n",
      "+-----------+----------+-----------+--------+--------------------+--------------------+-----+-----+----+--------+-----------+\n",
      "|Foreclosure| Hyde Park|      02136|$289,900|Mass Realty Advisors|https://www.zillo...|    2|  1.0| 848|  uknown|foreclosure|\n",
      "|Foreclosure|    Boston|      02124|$999,999|Landmark Unlimite...|https://www.zillo...|    7|  4.0|3030|  uknown|foreclosure|\n",
      "|Foreclosure|Roslindale|      02131|$234,900|Century 21 North ...|https://www.zillo...|    1|  1.0| 624|  uknown|foreclosure|\n",
      "|Foreclosure| Hyde Park|      02136|$289,900|Mass Realty Advisors|https://www.zillo...|    2|  1.0| 848|  uknown|foreclosure|\n",
      "|Foreclosure| Hyde Park|      02136|$289,900|Mass Realty Advisors|https://www.zillo...|    2|  1.0| 848|  uknown|foreclosure|\n",
      "|Foreclosure| Hyde Park|      02136|$289,900|Mass Realty Advisors|https://www.zillo...|    2|  1.0| 848|  uknown|foreclosure|\n",
      "|Foreclosure|    Boston|      02124|$999,999|Landmark Unlimite...|https://www.zillo...|    7|  4.0|3030|  uknown|foreclosure|\n",
      "|Foreclosure|Roslindale|      02131|$234,900|Century 21 North ...|https://www.zillo...|    1|  1.0| 624|  uknown|foreclosure|\n",
      "|Foreclosure| Hyde Park|      02136|$289,900|Mass Realty Advisors|https://www.zillo...|    2|  1.0| 848|  uknown|foreclosure|\n",
      "|Foreclosure| Hyde Park|      02136|$289,900|Mass Realty Advisors|https://www.zillo...|    2|  1.0| 848|  uknown|foreclosure|\n",
      "|Foreclosure| Hyde Park|      02136|$289,900|Mass Realty Advisors|https://www.zillo...|    2|  1.0| 848|  uknown|foreclosure|\n",
      "|Foreclosure|    Boston|      02124|$999,999|Landmark Unlimite...|https://www.zillo...|    7|  4.0|3030|  uknown|foreclosure|\n",
      "|Foreclosure|Roslindale|      02131|$234,900|Century 21 North ...|https://www.zillo...|    1|  1.0| 624|  uknown|foreclosure|\n",
      "|Foreclosure| Hyde Park|      02136|$289,900|Mass Realty Advisors|https://www.zillo...|    2|  1.0| 848|  uknown|foreclosure|\n",
      "|Foreclosure| Hyde Park|      02136|$289,900|Mass Realty Advisors|https://www.zillo...|    2|  1.0| 848|  uknown|foreclosure|\n",
      "|Foreclosure| Hyde Park|      02136|$289,900|Mass Realty Advisors|https://www.zillo...|    2|  1.0| 848|  uknown|foreclosure|\n",
      "|Foreclosure|    Boston|      02124|$999,999|Landmark Unlimite...|https://www.zillo...|    7|  4.0|3030|  uknown|foreclosure|\n",
      "|Foreclosure|Roslindale|      02131|$234,900|Century 21 North ...|https://www.zillo...|    1|  1.0| 624|  uknown|foreclosure|\n",
      "|Foreclosure| Hyde Park|      02136|$289,900|Mass Realty Advisors|https://www.zillo...|    2|  1.0| 848|  uknown|foreclosure|\n",
      "|Foreclosure| Hyde Park|      02136|$289,900|Mass Realty Advisors|https://www.zillo...|    2|  1.0| 848|  uknown|foreclosure|\n",
      "+-----------+----------+-----------+--------+--------------------+--------------------+-----+-----+----+--------+-----------+\n",
      "only showing top 20 rows\n",
      "\n"
     ]
    }
   ],
   "source": [
    "def check_offer(offer):\n",
    "  return offer == \"foreclosure\"\n",
    "\n",
    "# Register the UDF as a Spark SQL function\n",
    "check_offer_udf = udf(check_offer, BooleanType())\n",
    "\n",
    "# Apply the UDF to the offer column and filter the rows where the UDF returns True\n",
    "test = df.filter(check_offer_udf(df.offer))\n",
    "\n",
    "test.show()"
   ]
  },
  {
   "cell_type": "markdown",
   "metadata": {
    "id": "-H-tO8rTvqS1"
   },
   "source": [
    "## Question 6 (Filter entries that are not for sale)"
   ]
  },
  {
   "cell_type": "code",
   "execution_count": 23,
   "metadata": {
    "colab": {
     "base_uri": "https://localhost:8080/"
    },
    "id": "3dQVJ2NaTFCC",
    "outputId": "e533ac2e-9010-4168-baf6-82d4f845b3dc"
   },
   "outputs": [
    {
     "name": "stdout",
     "output_type": "stream",
     "text": [
      "+-----+----+-----------+-----+--------------------+---+-----+-----+----+--------+-----+\n",
      "|title|city|postal_code|price|real estate provider|url|beadR|bathR|sqft|propType|offer|\n",
      "+-----+----+-----------+-----+--------------------+---+-----+-----+----+--------+-----+\n",
      "+-----+----+-----------+-----+--------------------+---+-----+-----+----+--------+-----+\n",
      "\n"
     ]
    }
   ],
   "source": [
    "df_sale = df.select(\"*\")\n",
    "df_sale = df.filter(df_sale.offer == \"sale\")\n",
    "\n",
    "#Return listing with offer==forclosure using the check_offer_udf() function\n",
    "test = df_sale.filter(check_offer_udf(df_sale.offer))\n",
    "\n",
    "test.show()"
   ]
  },
  {
   "cell_type": "code",
   "execution_count": 24,
   "metadata": {
    "colab": {
     "base_uri": "https://localhost:8080/"
    },
    "id": "qBpl9FHOssLy",
    "outputId": "ead5a5a5-8c05-45b2-bc7a-4d826424d1d9"
   },
   "outputs": [
    {
     "name": "stdout",
     "output_type": "stream",
     "text": [
      "+--------------+------------+-----------+----------+--------------------+--------------------+-----+-----+----+--------+-----+\n",
      "|         title|        city|postal_code|     price|real estate provider|                 url|beadR|bathR|sqft|propType|offer|\n",
      "+--------------+------------+-----------+----------+--------------------+--------------------+-----+-----+----+--------+-----+\n",
      "|Condo for sale|  Somerville|      02145|  $342,000|William Raveis R....|https://www.zillo...|    2|  1.0| 705|   condo| sale|\n",
      "|Condo for sale|      Boston|      02116|$1,700,000|Century 21 North ...|https://www.zillo...|    2|  2.0|1228|   condo| sale|\n",
      "|Condo for sale|      Boston|      02118|  $336,500|Maloney Propertie...|https://www.zillo...|    1|  1.0|1000|   condo| sale|\n",
      "|House for sale|      Boston|      02118|$9,950,000|Campion & Company...|https://www.zillo...|    4|  7.0|6836|   house| sale|\n",
      "|Condo for sale|      Boston|      02128|  $479,000|Berkshire Hathawa...|https://www.zillo...|    2|  3.0|1000|   condo| sale|\n",
      "|House for sale| East Boston|      02128|  $899,000|Berkshire Hathawa...|https://www.zillo...|    3|  3.0|2313|   house| sale|\n",
      "|Condo for sale|  Somerville|      02145|  $397,300|William Raveis R....|https://www.zillo...|    2|  1.0| 780|   condo| sale|\n",
      "|Condo for sale|South Boston|      02127|  $619,900|Bento Real Estate...|https://www.zillo...|    2|  1.0| 856|   condo| sale|\n",
      "|Condo for sale|      Boston|      02116|  $850,000|Engel & Volkers B...|https://www.zillo...|    1|  1.0| 675|   condo| sale|\n",
      "|Condo for sale|      Boston|      02114|  $649,900|Leading Edge Real...|https://www.zillo...|    2|  1.0| 511|   condo| sale|\n",
      "|Condo for sale|      Boston|      02114|  $625,000|Keller Williams R...|https://www.zillo...|    2|  2.0|1099|   condo| sale|\n",
      "|Condo for sale|  Somerville|      02143|   $80,000|The Greene Realty...|https://www.zillo...|    0|  0.0| 126|   condo| sale|\n",
      "|Condo for sale|      Boston|      02116|$1,425,000|        Redfin Corp.|https://www.zillo...|    3|  2.0|1070|   condo| sale|\n",
      "|Condo for sale|      Boston|      02128|  $199,000| Perlera Real Estate|https://www.zillo...|    2|  1.0| 624|   condo| sale|\n",
      "|House for sale|      Boston|      02113|$1,200,000|       CL Properties|https://www.zillo...|    2|  1.0|1165|   house| sale|\n",
      "|Condo for sale|South Boston|      02127|  $499,950|      One Way Realty|https://www.zillo...|    1|  1.0| 500|   condo| sale|\n",
      "|Condo for sale| Charlestown|      02129|  $739,000|             Compass|https://www.zillo...|    2|  2.0| 932|   condo| sale|\n",
      "|House for sale|      Boston|      02129|$1,119,000|All Star Realty, ...|https://www.zillo...|    3|  4.0|1680|   house| sale|\n",
      "|House for sale|South Boston|      02127|$1,699,000|             Compass|https://www.zillo...|    4|  3.0|2043|   house| sale|\n",
      "|House for sale|      Boston|      02128|  $589,000|Gibson Sotheby's ...|https://www.zillo...|    2|  2.0|1200|   house| sale|\n",
      "+--------------+------------+-----------+----------+--------------------+--------------------+-----+-----+----+--------+-----+\n",
      "only showing top 20 rows\n",
      "\n"
     ]
    }
   ],
   "source": [
    "df_sale.show()"
   ]
  },
  {
   "cell_type": "markdown",
   "metadata": {
    "id": "iTD3L6VPyLWg"
   },
   "source": [
    "## Question 7 (Filter entries that are not for sale)"
   ]
  },
  {
   "cell_type": "code",
   "execution_count": 25,
   "metadata": {
    "id": "W4RtaDyZxoib"
   },
   "outputs": [],
   "source": [
    "from pyspark.sql.functions import pandas_udf\n",
    "import pyspark.sql.functions as F\n",
    "\n",
    "def pPrice(string):\n",
    "  num = ((string[1:]).split(\",\"))\n",
    "  if num[-1][-1]==\"+\":\n",
    "    num[-1] = num[-1][:-1]\n",
    "  num = ''.join(num)\n",
    "  num = int(num)    \n",
    "  return num\n",
    "\n",
    "pPrice_udf = F.udf(pPrice, IntegerType())"
   ]
  },
  {
   "cell_type": "code",
   "execution_count": 26,
   "metadata": {
    "colab": {
     "base_uri": "https://localhost:8080/"
    },
    "id": "x0TJpLAqymMp",
    "outputId": "5d07fb52-94f1-4df9-d74f-72e26b8e099b"
   },
   "outputs": [
    {
     "name": "stdout",
     "output_type": "stream",
     "text": [
      "+--------------+------------+-----------+-------+--------------------+--------------------+-----+-----+----+--------+-----+\n",
      "|         title|        city|postal_code|  price|real estate provider|                 url|beadR|bathR|sqft|propType|offer|\n",
      "+--------------+------------+-----------+-------+--------------------+--------------------+-----+-----+----+--------+-----+\n",
      "|Condo for sale|  Somerville|      02145| 342000|William Raveis R....|https://www.zillo...|    2|  1.0| 705|   condo| sale|\n",
      "|Condo for sale|      Boston|      02116|1700000|Century 21 North ...|https://www.zillo...|    2|  2.0|1228|   condo| sale|\n",
      "|Condo for sale|      Boston|      02118| 336500|Maloney Propertie...|https://www.zillo...|    1|  1.0|1000|   condo| sale|\n",
      "|House for sale|      Boston|      02118|9950000|Campion & Company...|https://www.zillo...|    4|  7.0|6836|   house| sale|\n",
      "|Condo for sale|      Boston|      02128| 479000|Berkshire Hathawa...|https://www.zillo...|    2|  3.0|1000|   condo| sale|\n",
      "|House for sale| East Boston|      02128| 899000|Berkshire Hathawa...|https://www.zillo...|    3|  3.0|2313|   house| sale|\n",
      "|Condo for sale|  Somerville|      02145| 397300|William Raveis R....|https://www.zillo...|    2|  1.0| 780|   condo| sale|\n",
      "|Condo for sale|South Boston|      02127| 619900|Bento Real Estate...|https://www.zillo...|    2|  1.0| 856|   condo| sale|\n",
      "|Condo for sale|      Boston|      02116| 850000|Engel & Volkers B...|https://www.zillo...|    1|  1.0| 675|   condo| sale|\n",
      "|Condo for sale|      Boston|      02114| 649900|Leading Edge Real...|https://www.zillo...|    2|  1.0| 511|   condo| sale|\n",
      "+--------------+------------+-----------+-------+--------------------+--------------------+-----+-----+----+--------+-----+\n",
      "only showing top 10 rows\n",
      "\n"
     ]
    }
   ],
   "source": [
    "# Apply the UDF to a pyspark dataframe column and return a new column\n",
    "price = pPrice_udf(df_sale[\"price\"])\n",
    "\n",
    "# Add the new column to the dataframe\n",
    "df_sale = df_sale.withColumn(\"price\", pPrice_udf(df_sale[\"price\"]))\n",
    "# Show the first 10 rows of the dataframe with the new column\n",
    "df_sale.show(10)"
   ]
  },
  {
   "cell_type": "markdown",
   "metadata": {
    "id": "sbfKoxvU303I"
   },
   "source": [
    "This is the answer, but i dislike it visualy so i move the columns around a bit"
   ]
  },
  {
   "cell_type": "code",
   "execution_count": 27,
   "metadata": {
    "colab": {
     "base_uri": "https://localhost:8080/"
    },
    "id": "EcUb_Fu82RMR",
    "outputId": "d08d13be-1ae8-4492-ba9e-bdbacefff321"
   },
   "outputs": [
    {
     "name": "stdout",
     "output_type": "stream",
     "text": [
      "+--------------+------------+-----------+--------------------+--------------------+-----+--------+-----+-----+----+-------+\n",
      "|         title|        city|postal_code|real estate provider|                 url|offer|propType|beadR|bathR|sqft|  price|\n",
      "+--------------+------------+-----------+--------------------+--------------------+-----+--------+-----+-----+----+-------+\n",
      "|Condo for sale|  Somerville|      02145|William Raveis R....|https://www.zillo...| sale|   condo|    2|  1.0| 705| 342000|\n",
      "|Condo for sale|      Boston|      02116|Century 21 North ...|https://www.zillo...| sale|   condo|    2|  2.0|1228|1700000|\n",
      "|Condo for sale|      Boston|      02118|Maloney Propertie...|https://www.zillo...| sale|   condo|    1|  1.0|1000| 336500|\n",
      "|House for sale|      Boston|      02118|Campion & Company...|https://www.zillo...| sale|   house|    4|  7.0|6836|9950000|\n",
      "|Condo for sale|      Boston|      02128|Berkshire Hathawa...|https://www.zillo...| sale|   condo|    2|  3.0|1000| 479000|\n",
      "|House for sale| East Boston|      02128|Berkshire Hathawa...|https://www.zillo...| sale|   house|    3|  3.0|2313| 899000|\n",
      "|Condo for sale|  Somerville|      02145|William Raveis R....|https://www.zillo...| sale|   condo|    2|  1.0| 780| 397300|\n",
      "|Condo for sale|South Boston|      02127|Bento Real Estate...|https://www.zillo...| sale|   condo|    2|  1.0| 856| 619900|\n",
      "|Condo for sale|      Boston|      02116|Engel & Volkers B...|https://www.zillo...| sale|   condo|    1|  1.0| 675| 850000|\n",
      "|Condo for sale|      Boston|      02114|Leading Edge Real...|https://www.zillo...| sale|   condo|    2|  1.0| 511| 649900|\n",
      "+--------------+------------+-----------+--------------------+--------------------+-----+--------+-----+-----+----+-------+\n",
      "only showing top 10 rows\n",
      "\n"
     ]
    }
   ],
   "source": [
    "df_sale = df_sale.select(\"title\",\"city\",\"postal_code\",\"real estate provider\",\"url\",\"offer\",\"propType\",\"beadR\",\"bathR\",\"sqft\",\"price\")\n",
    "df_sale.show(10)"
   ]
  },
  {
   "cell_type": "markdown",
   "metadata": {
    "id": "hPdFmHQP5gkG"
   },
   "source": [
    "Much better"
   ]
  },
  {
   "cell_type": "markdown",
   "metadata": {
    "id": "f-DrXZl4WcJ1"
   },
   "source": [
    "## Question 8 (Filter >10 beadrooms)"
   ]
  },
  {
   "cell_type": "code",
   "execution_count": 28,
   "metadata": {
    "colab": {
     "base_uri": "https://localhost:8080/"
    },
    "id": "5VTdaKVAZkE6",
    "outputId": "c9573da2-3c1f-46b5-9331-23b0ab00ab97"
   },
   "outputs": [
    {
     "name": "stdout",
     "output_type": "stream",
     "text": [
      "+--------------+------------+-----------+--------------------+--------------------+-----+--------+-----+-----+----+-------+\n",
      "|         title|        city|postal_code|real estate provider|                 url|offer|propType|beadR|bathR|sqft|  price|\n",
      "+--------------+------------+-----------+--------------------+--------------------+-----+--------+-----+-----+----+-------+\n",
      "|Condo for sale|  Somerville|      02145|William Raveis R....|https://www.zillo...| sale|   condo|    2|  1.0| 705| 342000|\n",
      "|Condo for sale|      Boston|      02116|Century 21 North ...|https://www.zillo...| sale|   condo|    2|  2.0|1228|1700000|\n",
      "|Condo for sale|      Boston|      02118|Maloney Propertie...|https://www.zillo...| sale|   condo|    1|  1.0|1000| 336500|\n",
      "|House for sale|      Boston|      02118|Campion & Company...|https://www.zillo...| sale|   house|    4|  7.0|6836|9950000|\n",
      "|Condo for sale|      Boston|      02128|Berkshire Hathawa...|https://www.zillo...| sale|   condo|    2|  3.0|1000| 479000|\n",
      "|House for sale| East Boston|      02128|Berkshire Hathawa...|https://www.zillo...| sale|   house|    3|  3.0|2313| 899000|\n",
      "|Condo for sale|  Somerville|      02145|William Raveis R....|https://www.zillo...| sale|   condo|    2|  1.0| 780| 397300|\n",
      "|Condo for sale|South Boston|      02127|Bento Real Estate...|https://www.zillo...| sale|   condo|    2|  1.0| 856| 619900|\n",
      "|Condo for sale|      Boston|      02116|Engel & Volkers B...|https://www.zillo...| sale|   condo|    1|  1.0| 675| 850000|\n",
      "|Condo for sale|      Boston|      02114|Leading Edge Real...|https://www.zillo...| sale|   condo|    2|  1.0| 511| 649900|\n",
      "+--------------+------------+-----------+--------------------+--------------------+-----+--------+-----+-----+----+-------+\n",
      "only showing top 10 rows\n",
      "\n"
     ]
    }
   ],
   "source": [
    "df_sale = df_sale.filter(df_sale.beadR <= 10)\n",
    "df_sale.show(10)"
   ]
  },
  {
   "cell_type": "code",
   "execution_count": 29,
   "metadata": {
    "colab": {
     "base_uri": "https://localhost:8080/"
    },
    "id": "Jmn4dKPpazwf",
    "outputId": "41df3c2b-5d41-4e67-d249-32284f16632b"
   },
   "outputs": [
    {
     "name": "stdout",
     "output_type": "stream",
     "text": [
      "+-----+----+-----------+--------------------+---+-----+--------+-----+-----+----+-----+\n",
      "|title|city|postal_code|real estate provider|url|offer|propType|beadR|bathR|sqft|price|\n",
      "+-----+----+-----------+--------------------+---+-----+--------+-----+-----+----+-----+\n",
      "+-----+----+-----------+--------------------+---+-----+--------+-----+-----+----+-----+\n",
      "\n"
     ]
    }
   ],
   "source": [
    "def check_beads(beadR):\n",
    "  return beadR > 10\n",
    "\n",
    "check_beads_udf = udf(check_beads, BooleanType())\n",
    "test = df_sale.filter(check_beads_udf(df_sale.beadR))\n",
    "\n",
    "test.show()"
   ]
  },
  {
   "cell_type": "markdown",
   "metadata": {
    "id": "Vvfrbq3AhjtI"
   },
   "source": [
    "## Question 9 (Filter by price)"
   ]
  },
  {
   "cell_type": "code",
   "execution_count": 30,
   "metadata": {
    "colab": {
     "base_uri": "https://localhost:8080/"
    },
    "id": "jlqZPZFmfhr8",
    "outputId": "8ed5bbce-2eaa-4a8a-d9c3-ddaec8b835c5"
   },
   "outputs": [
    {
     "name": "stdout",
     "output_type": "stream",
     "text": [
      "+--------------+------------+-----------+--------------------+--------------------+-----+--------+-----+-----+----+-------+\n",
      "|         title|        city|postal_code|real estate provider|                 url|offer|propType|beadR|bathR|sqft|  price|\n",
      "+--------------+------------+-----------+--------------------+--------------------+-----+--------+-----+-----+----+-------+\n",
      "|Condo for sale|  Somerville|      02145|William Raveis R....|https://www.zillo...| sale|   condo|    2|  1.0| 705| 342000|\n",
      "|Condo for sale|      Boston|      02116|Century 21 North ...|https://www.zillo...| sale|   condo|    2|  2.0|1228|1700000|\n",
      "|Condo for sale|      Boston|      02118|Maloney Propertie...|https://www.zillo...| sale|   condo|    1|  1.0|1000| 336500|\n",
      "|House for sale|      Boston|      02118|Campion & Company...|https://www.zillo...| sale|   house|    4|  7.0|6836|9950000|\n",
      "|Condo for sale|      Boston|      02128|Berkshire Hathawa...|https://www.zillo...| sale|   condo|    2|  3.0|1000| 479000|\n",
      "|House for sale| East Boston|      02128|Berkshire Hathawa...|https://www.zillo...| sale|   house|    3|  3.0|2313| 899000|\n",
      "|Condo for sale|  Somerville|      02145|William Raveis R....|https://www.zillo...| sale|   condo|    2|  1.0| 780| 397300|\n",
      "|Condo for sale|South Boston|      02127|Bento Real Estate...|https://www.zillo...| sale|   condo|    2|  1.0| 856| 619900|\n",
      "|Condo for sale|      Boston|      02116|Engel & Volkers B...|https://www.zillo...| sale|   condo|    1|  1.0| 675| 850000|\n",
      "|Condo for sale|      Boston|      02114|Leading Edge Real...|https://www.zillo...| sale|   condo|    2|  1.0| 511| 649900|\n",
      "+--------------+------------+-----------+--------------------+--------------------+-----+--------+-----+-----+----+-------+\n",
      "only showing top 10 rows\n",
      "\n"
     ]
    }
   ],
   "source": [
    "df_sale = df_sale.filter(df_sale.price < 20000000)\n",
    "df_sale = df_sale.filter(df_sale.price > 100000)\n",
    "df_sale.show(10)"
   ]
  },
  {
   "cell_type": "code",
   "execution_count": 31,
   "metadata": {
    "colab": {
     "base_uri": "https://localhost:8080/"
    },
    "id": "HCtOSrXGm6zq",
    "outputId": "0945eb55-f64f-4053-fc63-40925737ea7c"
   },
   "outputs": [
    {
     "name": "stdout",
     "output_type": "stream",
     "text": [
      "+-----+----+-----------+--------------------+---+-----+--------+-----+-----+----+-----+\n",
      "|title|city|postal_code|real estate provider|url|offer|propType|beadR|bathR|sqft|price|\n",
      "+-----+----+-----------+--------------------+---+-----+--------+-----+-----+----+-----+\n",
      "+-----+----+-----------+--------------------+---+-----+--------+-----+-----+----+-----+\n",
      "\n"
     ]
    }
   ],
   "source": [
    "def check_price(price):\n",
    "  return ((price > 20000000) or (price < 100000))\n",
    "\n",
    "check_price_udf = udf(check_price, BooleanType())\n",
    "test = df_sale.filter(check_price_udf(df_sale.price))\n",
    "\n",
    "test.show()"
   ]
  },
  {
   "cell_type": "markdown",
   "metadata": {
    "id": "zdBduH_GunlN"
   },
   "source": [
    "## Question 10 (Filter by type of property)"
   ]
  },
  {
   "cell_type": "code",
   "execution_count": 32,
   "metadata": {
    "colab": {
     "base_uri": "https://localhost:8080/"
    },
    "id": "Mo1gr6uHud7B",
    "outputId": "f10975b2-4cb7-419d-d472-b8445010b4ed"
   },
   "outputs": [
    {
     "name": "stdout",
     "output_type": "stream",
     "text": [
      "+--------------+------------+-----------+--------------------+--------------------+-----+--------+-----+-----+----+-------+\n",
      "|         title|        city|postal_code|real estate provider|                 url|offer|propType|beadR|bathR|sqft|  price|\n",
      "+--------------+------------+-----------+--------------------+--------------------+-----+--------+-----+-----+----+-------+\n",
      "|House for sale|      Boston|      02118|Campion & Company...|https://www.zillo...| sale|   house|    4|  7.0|6836|9950000|\n",
      "|House for sale| East Boston|      02128|Berkshire Hathawa...|https://www.zillo...| sale|   house|    3|  3.0|2313| 899000|\n",
      "|House for sale|      Boston|      02113|       CL Properties|https://www.zillo...| sale|   house|    2|  1.0|1165|1200000|\n",
      "|House for sale|      Boston|      02129|All Star Realty, ...|https://www.zillo...| sale|   house|    3|  4.0|1680|1119000|\n",
      "|House for sale|South Boston|      02127|             Compass|https://www.zillo...| sale|   house|    4|  3.0|2043|1699000|\n",
      "|House for sale|      Boston|      02128|Gibson Sotheby's ...|https://www.zillo...| sale|   house|    2|  2.0|1200| 589000|\n",
      "|House for sale|      Boston|      02115|MGS Group Real Es...|https://www.zillo...| sale|   house|    4|  7.0|4754|9750000|\n",
      "|House for sale|  Somerville|      02145|Gibson Sotheby's ...|https://www.zillo...| sale|   house|    4|  4.0|3121|2075000|\n",
      "|House for sale|      Boston|      02114|William Raveis R....|https://www.zillo...| sale|   house|    3|  3.0|2048|3200000|\n",
      "|House for sale|South Boston|      02127|Coldwell Banker R...|https://www.zillo...| sale|   house|    3|  3.0|1867|1175000|\n",
      "+--------------+------------+-----------+--------------------+--------------------+-----+--------+-----+-----+----+-------+\n",
      "only showing top 10 rows\n",
      "\n"
     ]
    }
   ],
   "source": [
    "df_sale = df_sale.filter(df_sale.propType == \"house\")\n",
    "df_sale.show(10)"
   ]
  },
  {
   "cell_type": "code",
   "execution_count": 33,
   "metadata": {
    "colab": {
     "base_uri": "https://localhost:8080/"
    },
    "id": "DaBrsVpJvIoI",
    "outputId": "8b70a3a6-591c-4418-a1be-ce509883660f"
   },
   "outputs": [
    {
     "name": "stdout",
     "output_type": "stream",
     "text": [
      "+-----+----+-----------+--------------------+---+-----+--------+-----+-----+----+-----+\n",
      "|title|city|postal_code|real estate provider|url|offer|propType|beadR|bathR|sqft|price|\n",
      "+-----+----+-----------+--------------------+---+-----+--------+-----+-----+----+-----+\n",
      "+-----+----+-----------+--------------------+---+-----+--------+-----+-----+----+-----+\n",
      "\n"
     ]
    }
   ],
   "source": [
    "def check_pType(propType):\n",
    "  return (propType != \"house\") \n",
    "\n",
    "check_pType_udf = udf(check_pType, BooleanType())\n",
    "test = df_sale.filter(check_pType_udf(df_sale.propType))\n",
    "\n",
    "test.show()"
   ]
  },
  {
   "cell_type": "markdown",
   "metadata": {
    "id": "Q8mnDgqQvqK2"
   },
   "source": [
    "## Question 10 (Calculating $$$/sqft)"
   ]
  },
  {
   "cell_type": "code",
   "execution_count": 35,
   "metadata": {
    "colab": {
     "base_uri": "https://localhost:8080/"
    },
    "id": "kX-i9x2HvmbO",
    "outputId": "aab036be-c445-4097-ca10-3c9e37c77dfa"
   },
   "outputs": [
    {
     "name": "stdout",
     "output_type": "stream",
     "text": [
      "Monetary cost per square feet for houses with 0 beadrooms: 1250 $\n",
      "\n",
      "Monetary cost per square feet for houses with 1 beadrooms: no data\n",
      "\n",
      "Monetary cost per square feet for houses with 2 beadrooms: 714 $\n",
      "\n",
      "Monetary cost per square feet for houses with 3 beadrooms: 698 $\n",
      "\n",
      "Monetary cost per square feet for houses with 4 beadrooms: 1125 $\n",
      "\n",
      "Monetary cost per square feet for houses with 5 beadrooms: 906 $\n",
      "\n",
      "Monetary cost per square feet for houses with 6 beadrooms: 529 $\n",
      "\n",
      "Monetary cost per square feet for houses with 7 beadrooms: 1126 $\n",
      "\n",
      "Monetary cost per square feet for houses with 8 beadrooms: 1567 $\n",
      "\n",
      "Monetary cost per square feet for houses with 9 beadrooms: 1108 $\n",
      "\n"
     ]
    }
   ],
   "source": [
    "for i in range(10):\n",
    "  cat=df_sale.filter(df_sale.beadR == i)\n",
    "  sums=cat.groupBy().sum().collect()\n",
    "\n",
    "  if (i==1):\n",
    "    cost = \"no data\"\n",
    "    print(\"Monetary cost per square feet for houses with\",i,\"beadrooms:\" , cost)\n",
    "  else:\n",
    "    cost = int(sums[0][3]/sums[0][2])\n",
    "    \n",
    "    print(\"Monetary cost per square feet for houses with\",i,\"beadrooms:\" , cost,\"$\")\n",
    "  print()"
   ]
  },
  {
   "cell_type": "code",
   "execution_count": 36,
   "metadata": {
    "colab": {
     "base_uri": "https://localhost:8080/"
    },
    "id": "AqlBsbzaof93",
    "outputId": "e38d1e72-5895-486a-a4d5-c3211eef9feb"
   },
   "outputs": [
    {
     "name": "stdout",
     "output_type": "stream",
     "text": [
      "+-----+----+-----------+--------------------+---+-----+--------+-----+-----+----+-----+\n",
      "|title|city|postal_code|real estate provider|url|offer|propType|beadR|bathR|sqft|price|\n",
      "+-----+----+-----------+--------------------+---+-----+--------+-----+-----+----+-----+\n",
      "+-----+----+-----------+--------------------+---+-----+--------+-----+-----+----+-----+\n",
      "\n"
     ]
    }
   ],
   "source": [
    "def check_beads(beadR):\n",
    "  return beadR == 10\n",
    "\n",
    "check_beads_udf = udf(check_beads, BooleanType())\n",
    "test = df_sale.filter(check_beads_udf(df_sale.beadR))\n",
    "\n",
    "test.show()"
   ]
  },
  {
   "cell_type": "markdown",
   "metadata": {
    "id": "HxUKR4ZPpEsw"
   },
   "source": [
    "There are no houses that have follow all resctrictions and have 10 beads even if we do not filter them out directly"
   ]
  },
  {
   "cell_type": "code",
   "execution_count": 34,
   "metadata": {
    "colab": {
     "base_uri": "https://localhost:8080/"
    },
    "id": "F6j3xi-k4m94",
    "outputId": "1f23d90f-455b-43a8-f1ee-62ea8f126b3e"
   },
   "outputs": [
    {
     "name": "stdout",
     "output_type": "stream",
     "text": [
      "+--------------+------+-----------+--------------------+--------------------+-----+--------+-----+-----+----+-------+\n",
      "|         title|  city|postal_code|real estate provider|                 url|offer|propType|beadR|bathR|sqft|  price|\n",
      "+--------------+------+-----------+--------------------+--------------------+-----+--------+-----+-----+----+-------+\n",
      "|House for sale|Boston|      02108|Campion & Company...|https://www.zillo...| sale|   house|    9|  7.0|8979|9950000|\n",
      "|House for sale|Boston|      02108|Campion & Company...|https://www.zillo...| sale|   house|    9|  7.0|8979|9950000|\n",
      "|House for sale|Boston|      02108|Campion & Company...|https://www.zillo...| sale|   house|    9|  7.0|8979|9950000|\n",
      "|House for sale|Boston|      02108|Campion & Company...|https://www.zillo...| sale|   house|    9|  7.0|8979|9950000|\n",
      "|House for sale|Boston|      02108|Campion & Company...|https://www.zillo...| sale|   house|    9|  7.0|8979|9950000|\n",
      "|House for sale|Boston|      02108|Campion & Company...|https://www.zillo...| sale|   house|    9|  7.0|8979|9950000|\n",
      "|House for sale|Boston|      02108|Campion & Company...|https://www.zillo...| sale|   house|    9|  7.0|8979|9950000|\n",
      "|House for sale|Boston|      02108|Campion & Company...|https://www.zillo...| sale|   house|    9|  7.0|8979|9950000|\n",
      "|House for sale|Boston|      02108|Campion & Company...|https://www.zillo...| sale|   house|    9|  7.0|8979|9950000|\n",
      "|House for sale|Boston|      02108|Campion & Company...|https://www.zillo...| sale|   house|    9|  7.0|8979|9950000|\n",
      "|House for sale|Boston|      02108|Campion & Company...|https://www.zillo...| sale|   house|    9|  7.0|8979|9950000|\n",
      "|House for sale|Boston|      02108|Campion & Company...|https://www.zillo...| sale|   house|    9|  7.0|8979|9950000|\n",
      "|House for sale|Boston|      02108|Campion & Company...|https://www.zillo...| sale|   house|    9|  7.0|8979|9950000|\n",
      "|House for sale|Boston|      02108|Campion & Company...|https://www.zillo...| sale|   house|    9|  7.0|8979|9950000|\n",
      "|House for sale|Boston|      02108|Campion & Company...|https://www.zillo...| sale|   house|    9|  7.0|8979|9950000|\n",
      "|House for sale|Boston|      02108|Campion & Company...|https://www.zillo...| sale|   house|    9|  7.0|8979|9950000|\n",
      "|House for sale|Boston|      02108|Campion & Company...|https://www.zillo...| sale|   house|    9|  7.0|8979|9950000|\n",
      "|House for sale|Boston|      02108|Campion & Company...|https://www.zillo...| sale|   house|    9|  7.0|8979|9950000|\n",
      "|House for sale|Boston|      02108|Campion & Company...|https://www.zillo...| sale|   house|    9|  7.0|8979|9950000|\n",
      "|House for sale|Boston|      02108|Campion & Company...|https://www.zillo...| sale|   house|    9|  7.0|8979|9950000|\n",
      "|House for sale|Boston|      02108|Campion & Company...|https://www.zillo...| sale|   house|    9|  7.0|8979|9950000|\n",
      "|House for sale|Boston|      02108|Campion & Company...|https://www.zillo...| sale|   house|    9|  7.0|8979|9950000|\n",
      "|House for sale|Boston|      02108|Campion & Company...|https://www.zillo...| sale|   house|    9|  7.0|8979|9950000|\n",
      "|House for sale|Boston|      02108|Campion & Company...|https://www.zillo...| sale|   house|    9|  7.0|8979|9950000|\n",
      "|House for sale|Boston|      02108|Campion & Company...|https://www.zillo...| sale|   house|    9|  7.0|8979|9950000|\n",
      "|House for sale|Boston|      02108|Campion & Company...|https://www.zillo...| sale|   house|    9|  7.0|8979|9950000|\n",
      "|House for sale|Boston|      02108|Campion & Company...|https://www.zillo...| sale|   house|    9|  7.0|8979|9950000|\n",
      "|House for sale|Boston|      02108|Campion & Company...|https://www.zillo...| sale|   house|    9|  7.0|8979|9950000|\n",
      "|House for sale|Boston|      02108|Campion & Company...|https://www.zillo...| sale|   house|    9|  7.0|8979|9950000|\n",
      "|House for sale|Boston|      02108|Campion & Company...|https://www.zillo...| sale|   house|    9|  7.0|8979|9950000|\n",
      "|House for sale|Boston|      02108|Campion & Company...|https://www.zillo...| sale|   house|    9|  7.0|8979|9950000|\n",
      "|House for sale|Boston|      02108|Campion & Company...|https://www.zillo...| sale|   house|    9|  7.0|8979|9950000|\n",
      "|House for sale|Boston|      02108|Campion & Company...|https://www.zillo...| sale|   house|    9|  7.0|8979|9950000|\n",
      "|House for sale|Boston|      02108|Campion & Company...|https://www.zillo...| sale|   house|    9|  7.0|8979|9950000|\n",
      "|House for sale|Boston|      02108|Campion & Company...|https://www.zillo...| sale|   house|    9|  7.0|8979|9950000|\n",
      "|House for sale|Boston|      02108|Campion & Company...|https://www.zillo...| sale|   house|    9|  7.0|8979|9950000|\n",
      "|House for sale|Boston|      02108|Campion & Company...|https://www.zillo...| sale|   house|    9|  7.0|8979|9950000|\n",
      "|House for sale|Boston|      02108|Campion & Company...|https://www.zillo...| sale|   house|    9|  7.0|8979|9950000|\n",
      "|House for sale|Boston|      02108|Campion & Company...|https://www.zillo...| sale|   house|    9|  7.0|8979|9950000|\n",
      "|House for sale|Boston|      02108|Campion & Company...|https://www.zillo...| sale|   house|    9|  7.0|8979|9950000|\n",
      "|House for sale|Boston|      02108|Campion & Company...|https://www.zillo...| sale|   house|    9|  7.0|8979|9950000|\n",
      "|House for sale|Boston|      02108|Campion & Company...|https://www.zillo...| sale|   house|    9|  7.0|8979|9950000|\n",
      "|House for sale|Boston|      02108|Campion & Company...|https://www.zillo...| sale|   house|    9|  7.0|8979|9950000|\n",
      "|House for sale|Boston|      02108|Campion & Company...|https://www.zillo...| sale|   house|    9|  7.0|8979|9950000|\n",
      "|House for sale|Boston|      02108|Campion & Company...|https://www.zillo...| sale|   house|    9|  7.0|8979|9950000|\n",
      "|House for sale|Boston|      02108|Campion & Company...|https://www.zillo...| sale|   house|    9|  7.0|8979|9950000|\n",
      "|House for sale|Boston|      02108|Campion & Company...|https://www.zillo...| sale|   house|    9|  7.0|8979|9950000|\n",
      "|House for sale|Boston|      02108|Campion & Company...|https://www.zillo...| sale|   house|    9|  7.0|8979|9950000|\n",
      "|House for sale|Boston|      02108|Campion & Company...|https://www.zillo...| sale|   house|    9|  7.0|8979|9950000|\n",
      "|House for sale|Boston|      02108|Campion & Company...|https://www.zillo...| sale|   house|    9|  7.0|8979|9950000|\n",
      "|House for sale|Boston|      02108|Campion & Company...|https://www.zillo...| sale|   house|    9|  7.0|8979|9950000|\n",
      "|House for sale|Boston|      02108|Campion & Company...|https://www.zillo...| sale|   house|    9|  7.0|8979|9950000|\n",
      "|House for sale|Boston|      02108|Campion & Company...|https://www.zillo...| sale|   house|    9|  7.0|8979|9950000|\n",
      "|House for sale|Boston|      02108|Campion & Company...|https://www.zillo...| sale|   house|    9|  7.0|8979|9950000|\n",
      "|House for sale|Boston|      02108|Campion & Company...|https://www.zillo...| sale|   house|    9|  7.0|8979|9950000|\n",
      "|House for sale|Boston|      02108|Campion & Company...|https://www.zillo...| sale|   house|    9|  7.0|8979|9950000|\n",
      "|House for sale|Boston|      02108|Campion & Company...|https://www.zillo...| sale|   house|    9|  7.0|8979|9950000|\n",
      "|House for sale|Boston|      02108|Campion & Company...|https://www.zillo...| sale|   house|    9|  7.0|8979|9950000|\n",
      "|House for sale|Boston|      02108|Campion & Company...|https://www.zillo...| sale|   house|    9|  7.0|8979|9950000|\n",
      "+--------------+------+-----------+--------------------+--------------------+-----+--------+-----+-----+----+-------+\n",
      "\n"
     ]
    }
   ],
   "source": [
    "df_sale.filter(df_sale.beadR == 9).show(99)\n"
   ]
  },
  {
   "cell_type": "markdown",
   "metadata": {
    "id": "8JHB1Cy3qKjc"
   },
   "source": [
    "Multiple copies can lead to irrational results. For example 0 beads to be more expensive per sqft than 2 beads\n",
    "or going from 6 to 8 to triple the value per sqft or going for 6 to 5 to half the cost."
   ]
  },
  {
   "cell_type": "code",
   "execution_count": null,
   "metadata": {
    "id": "ABEtovkXqrv0"
   },
   "outputs": [],
   "source": []
  }
 ],
 "metadata": {
  "colab": {
   "provenance": []
  },
  "kernelspec": {
   "display_name": "Python 3 (ipykernel)",
   "language": "python",
   "name": "python3"
  },
  "language_info": {
   "codemirror_mode": {
    "name": "ipython",
    "version": 3
   },
   "file_extension": ".py",
   "mimetype": "text/x-python",
   "name": "python",
   "nbconvert_exporter": "python",
   "pygments_lexer": "ipython3",
   "version": "3.9.16"
  }
 },
 "nbformat": 4,
 "nbformat_minor": 1
}
